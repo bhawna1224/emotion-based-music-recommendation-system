import cv2
from deepface import DeepFace

# Load the pre-trained face cascade
faceCascade = cv2.CascadeClassifier(cv2.data.haarcascades + 'haarcascade_frontalface_default.xml')

# Open the camera
cap = cv2.VideoCapture(1)
if not cap.isOpened():
    cap = cv2.VideoCapture(0)
if not cap.isOpened():
    raise IOError("Cannot open camera")
while True:
    # Read a frame from the camera
    ret, frame = cap.read()
    result = DeepFace.analyze(frame, actions=['emotion'])

    # Convert the frame to grayscale for face detection
    gray = cv2.cvtColor(frame, cv2.COLOR_BGR2GRAY)

    # Detect faces in the frame
    faces = faceCascade.detectMultiScale(gray, 1.1, 4)

    # Draw rectangles around the detected faces and display the dominant emotion
    for (x, y, w, h) in faces:
        cv2.rectangle(frame, (x, y), (x+w, y+h), (0, 255, 0), 2)
        font = cv2.FONT_HERSHEY_SIMPLEX
        cv2.putText(frame,
                    result[0]['dominant_emotion'],
                    (50, 50),
                    font, 2,
                    (0, 0, 255),
                    2,
                    cv2.LINE_4)

    # Display the original frame
    cv2.imshow('Original', frame)

    # Check for the 'q' key to quit the loop
    if cv2.waitKey(1) & 0xFF == ord('q'):
        break

# Release the camera and close all windows
cap.release()
cv2.destroyAllWindows()
